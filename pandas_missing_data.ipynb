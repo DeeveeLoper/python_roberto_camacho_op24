{
 "cells": [
  {
   "cell_type": "markdown",
   "metadata": {},
   "source": [
    "Pandas missing data & aggregations"
   ]
  },
  {
   "cell_type": "code",
   "execution_count": 4,
   "metadata": {},
   "outputs": [
    {
     "name": "stdout",
     "output_type": "stream",
     "text": [
      "index [21 20 36  3  5 29 12 37 41 33]\n",
      "Flattens the matrix: [7 4 8 5 7 3 7 8 5 4 8 8 3 6 5 2 8 6 2 5 1 6 9 1 3 7 4 9 3 5 3 7 5 9 7 2 4\n",
      " 9 2 9 5 2 4 7 8 3 1 4 2 8 4 2 6 6 4 6 2 2 4 8 7 9 8 5]\n",
      "[[ 7.  4.  8. nan  7. nan  7.  8.]\n",
      " [ 5.  4.  8.  8. nan  6.  5.  2.]\n",
      " [ 8.  6.  2.  5. nan nan  9.  1.]\n",
      " [ 3.  7.  4.  9.  3. nan  3.  7.]\n",
      " [ 5. nan  7.  2. nan nan  2.  9.]\n",
      " [ 5. nan  4.  7.  8.  3.  1.  4.]\n",
      " [ 2.  8.  4.  2.  6.  6.  4.  6.]\n",
      " [ 2.  2.  4.  8.  7.  9.  8.  5.]]\n"
     ]
    }
   ],
   "source": [
    "import numpy as np\n",
    "import pandas as pd\n",
    "np.random.seed(42)\n",
    "\n",
    "n = 8 \n",
    "random_matrix = np.random.randint(1,10, (n,n))\n",
    "index = np.random.choice(random_matrix.size, 10, replace = False)\n",
    "print(f\"index {index}\")\n",
    "print(f\"Flattens the matrix: {random_matrix.ravel()}\")\n",
    "\n",
    "random_matrix = random_matrix*1.0\n",
    "random_matrix.ravel()[index] = None\n",
    "\n",
    "print(random_matrix)"
   ]
  }
 ],
 "metadata": {
  "kernelspec": {
   "display_name": ".venv",
   "language": "python",
   "name": "python3"
  },
  "language_info": {
   "codemirror_mode": {
    "name": "ipython",
    "version": 3
   },
   "file_extension": ".py",
   "mimetype": "text/x-python",
   "name": "python",
   "nbconvert_exporter": "python",
   "pygments_lexer": "ipython3",
   "version": "3.13.1"
  }
 },
 "nbformat": 4,
 "nbformat_minor": 2
}
