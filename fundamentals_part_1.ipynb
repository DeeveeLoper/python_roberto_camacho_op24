{
 "cells": [
  {
   "cell_type": "code",
   "execution_count": 25,
   "metadata": {},
   "outputs": [
    {
     "name": "stdout",
     "output_type": "stream",
     "text": [
      "apple\n",
      "I like apple\n"
     ]
    }
   ],
   "source": [
    "# User input\n",
    "myfruit = input()\n",
    "#myfruit = \"apple\"\n",
    "\n",
    "#display putput\n",
    "print(myfruit)\n",
    "print(f\"I like {myfruit}\")"
   ]
  },
  {
   "cell_type": "code",
   "execution_count": 26,
   "metadata": {},
   "outputs": [
    {
     "data": {
      "text/plain": [
       "('Kokchun', 1, True)"
      ]
     },
     "execution_count": 26,
     "metadata": {},
     "output_type": "execute_result"
    }
   ],
   "source": [
    "# tuple as output\n",
    "name = \"Kokchun\"\n",
    "age = 32.8\n",
    "number_of_children = 1\n",
    "loves_math = True\n",
    "\n",
    "name, number_of_children, loves_math"
   ]
  },
  {
   "cell_type": "code",
   "execution_count": 27,
   "metadata": {},
   "outputs": [
    {
     "name": "stdout",
     "output_type": "stream",
     "text": [
      "type (name) is <class 'str'>\n",
      "type(age) is <class 'float'>\n",
      "type(number_of_children) is <class 'int'>\n",
      "type(love_math) is <class 'bool'>\n"
     ]
    }
   ],
   "source": [
    "#f-string\n",
    "print(f\"type (name) is {type(name)}\")\n",
    "print(f\"type(age) is {type(age)}\")\n",
    "print (f\"type(number_of_children) is {type(number_of_children)}\")\n",
    "print(f\"type(love_math) is {type(loves_math)}\")"
   ]
  },
  {
   "cell_type": "code",
   "execution_count": 28,
   "metadata": {},
   "outputs": [
    {
     "data": {
      "text/plain": [
       "['Kokchun', 32.8, 1, True, ['badminton', 'yoga', 'path', 'programming']]"
      ]
     },
     "execution_count": 28,
     "metadata": {},
     "output_type": "execute_result"
    }
   ],
   "source": [
    "interests = [\"badminton\", \"yoga\", \"path\", \"programming\"]\n",
    "person = [\"Kokchun\", 32.8, 1, True]\n",
    "\n",
    "#muted\n",
    "person.append(interests)\n",
    "person"
   ]
  },
  {
   "cell_type": "code",
   "execution_count": 29,
   "metadata": {},
   "outputs": [
    {
     "name": "stdout",
     "output_type": "stream",
     "text": [
      "person[0] = 'Kokchun'\n",
      "person[2] = 1\n",
      "person[-1] = ['badminton', 'yoga', 'path', 'programming']\n",
      "person[2] = 1\n",
      "person[-1][-2] = 'path'\n"
     ]
    }
   ],
   "source": [
    "# element\n",
    "print(f\"{person[0] = }\")\n",
    "print(f\"{person[2] = }\")\n",
    "print(f\"{person[-1] = }\")\n",
    "print(f\"{person[2] = }\")\n",
    "print(f\"{person[-1][-2] = }\")"
   ]
  },
  {
   "cell_type": "code",
   "execution_count": 30,
   "metadata": {},
   "outputs": [
    {
     "name": "stdout",
     "output_type": "stream",
     "text": [
      "numbers = [0, 1, 2, 3, 4, 5, 6, 7, 8, 9]\n",
      "squares = [0, 1, 4, 9, 16, 25, 36, 49, 64, 81]\n",
      "cubes = [0, 1, 8, 27, 64, 125, 216, 343]\n",
      "8 cubes are before we go over 500\n"
     ]
    }
   ],
   "source": [
    "numbers = []\n",
    "for i in range(10):\n",
    "    numbers.append(i)\n",
    "    \n",
    "print(f\"{numbers = }\")\n",
    "\n",
    "# for loop\n",
    "squares = []\n",
    "for number in numbers:\n",
    "    squares.append(number**2)\n",
    "    \n",
    "print(f\"{squares = }\")\n",
    "\n",
    "# while loop\n",
    "i, cubes = 0, [0]\n",
    "while (i + 1) ** 3 < 500:\n",
    "    i += 1\n",
    "    cubes.append(i**3)\n",
    "    \n",
    "print(f\"{cubes = }\")\n",
    "\n",
    "print(f\"{len(cubes)} cubes are before we go over 500\")"
   ]
  },
  {
   "cell_type": "code",
   "execution_count": 31,
   "metadata": {},
   "outputs": [],
   "source": [
    "# tuple () immutable\n",
    "person = (\"Kokchun\", 32.8, 1, True)\n",
    "person\n",
    "\n",
    "# person[2] = 12\n",
    "\n",
    "# list [] mutable\n",
    "person_list = [\"Kokchun\", 32.8, 1, True]\n",
    "person_list[2] = 12"
   ]
  },
  {
   "cell_type": "code",
   "execution_count": 32,
   "metadata": {},
   "outputs": [
    {
     "name": "stdout",
     "output_type": "stream",
     "text": [
      "dices = [3, 3, 4, 2, 3, 2, 6, 6, 6, 3, 5, 2, 5, 6, 6, 5, 1, 5, 1, 5]\n",
      "unique_dices = {1, 2, 3, 4, 5, 6}\n"
     ]
    }
   ],
   "source": [
    "# Unique collection\n",
    "import random as rnd\n",
    "\n",
    "dices = [\n",
    "    rnd.randint(1, 6) for _ in range(20)\n",
    "]\n",
    "\n",
    "print(f\"{dices = }\")\n",
    "\n",
    "unique_dices = set(dices) #remove duplicates\n",
    "#unique_dices = [1]\n",
    "print(f\"{unique_dices = }\")\n",
    "\n"
   ]
  },
  {
   "cell_type": "code",
   "execution_count": 33,
   "metadata": {},
   "outputs": [
    {
     "name": "stdout",
     "output_type": "stream",
     "text": [
      "unique_dices = {1, 2, 3, 4, 5, 6}\n",
      "set2 = {1, 10, 3, 15}\n",
      "\n",
      "unique_dices.union(set2) = {1, 2, 3, 4, 5, 6, 10, 15}\n",
      "unique_dices | set2 = {1, 2, 3, 4, 5, 6, 10, 15}\n",
      "\n",
      "unique_dices.intersection(set2) = {1, 3}\n",
      "unique_dices & set2 = {1, 3}\n",
      "\n",
      "unique_dices.difference(set2) = {2, 4, 5, 6}\n",
      "unique_dices - set2 = {2, 4, 5, 6}\n",
      "\n",
      "unique_dices.issubset(set2) = False\n",
      "set3.issubset(unique_dices) = True\n"
     ]
    }
   ],
   "source": [
    "set2 = {1, 3, 10, 15} #set\n",
    "\n",
    "print(f\"{unique_dices = }\")\n",
    "print(f\"{set2 = }\\n\")\n",
    "\n",
    "print(f\"{unique_dices.union(set2) = }\")\n",
    "print(f\"{unique_dices | set2 = }\\n\")\n",
    "\n",
    "print(f\"{unique_dices.intersection(set2) = }\")\n",
    "print(f\"{unique_dices & set2 = }\\n\")\n",
    "\n",
    "print(f\"{unique_dices.difference(set2) = }\")\n",
    "print(f\"{unique_dices - set2 = }\\n\")\n",
    "\n",
    "set3 = {1, 2}\n",
    "print(f\"{unique_dices.issubset(set2) = }\")\n",
    "print(f\"{set3.issubset(unique_dices) = }\")"
   ]
  },
  {
   "cell_type": "code",
   "execution_count": 34,
   "metadata": {},
   "outputs": [
    {
     "name": "stdout",
     "output_type": "stream",
     "text": [
      "both syntax are equal? True\n",
      "but the have different memory addresses\n"
     ]
    },
    {
     "data": {
      "text/plain": [
       "('0x2dac2e344c0', '0x2dac2e24100')"
      ]
     },
     "execution_count": 34,
     "metadata": {},
     "output_type": "execute_result"
    }
   ],
   "source": [
    "# dictionary, \n",
    "# dict keyword\n",
    "person_dict_syntax = dict(\n",
    "    name=\"Kokchun\", \n",
    "    age=32.8, \n",
    "    number_of_children=1, \n",
    "    loves_math=True\n",
    ")\n",
    "# bracket syntax\n",
    "person_dict_bracket_syntax = {\n",
    "    \"name\": \"Kokchun\",\n",
    "    \"age\": 32.8,\n",
    "    \"number_of_children\": 1,\n",
    "    \"loves_math\": True\n",
    "}\n",
    "print(f\"both syntax are equal? {person_dict_syntax == person_dict_bracket_syntax}\")\n",
    "\n",
    "print(\"but the have different memory addresses\")\n",
    "hex(id(person_dict_bracket_syntax)), hex(id(person_dict_syntax))"
   ]
  },
  {
   "cell_type": "code",
   "execution_count": 35,
   "metadata": {},
   "outputs": [
    {
     "name": "stdout",
     "output_type": "stream",
     "text": [
      "name\n",
      "age\n",
      "number_of_children\n",
      "loves_math\n"
     ]
    }
   ],
   "source": [
    "# iterate keys\n",
    "for key in person_dict_syntax:\n",
    "    print(key)"
   ]
  },
  {
   "cell_type": "code",
   "execution_count": 36,
   "metadata": {},
   "outputs": [
    {
     "name": "stdout",
     "output_type": "stream",
     "text": [
      "key, value\n",
      "('name', 'Kokchun')\n",
      "('age', 32.8)\n",
      "('number_of_children', 1)\n",
      "('loves_math', True)\n"
     ]
    }
   ],
   "source": [
    "# iterate keys and values\n",
    "print (\"key, value\")\n",
    "for key, value in person_dict_syntax.items(): #items() return both key and value\n",
    "    print(f\"{key, value}\")"
   ]
  },
  {
   "cell_type": "code",
   "execution_count": 37,
   "metadata": {},
   "outputs": [
    {
     "data": {
      "text/plain": [
       "{'supervised learning': 'learns from labeled data.',\n",
       " 'unsupervised learning': 'finds patterns in unlabeled data.',\n",
       " 'feature engineering': 'enhances input features for models.',\n",
       " 'overfitting': 'model fits training data too closely.',\n",
       " 'cross-validation': 'evaluates model performance robustly.'}"
      ]
     },
     "execution_count": 37,
     "metadata": {},
     "output_type": "execute_result"
    }
   ],
   "source": [
    "# list with terms\n",
    "ml_terms = [\n",
    "    \"Supervised Learning\",\n",
    "    \"Unsupervised Learning\",\n",
    "    \"Feature Engineering\",\n",
    "    \"Overfitting\",\n",
    "    \"Cross-Validation\"\n",
    "]\n",
    "\n",
    "#list with explanations\n",
    "ml_explanations = [\n",
    "    \"Learns from labeled data.\",\n",
    "    \"Finds patterns in unlabeled data.\",\n",
    "    \"Enhances input features for models.\",\n",
    "    \"Model fits training data too closely.\",\n",
    "    \"Evaluates model performance robustly.\"\n",
    "]\n",
    "\n",
    "glossary = {term.lower(): explanation.lower() for term, explanation in zip(ml_terms, ml_explanations)} # zip to combine two lists\n",
    "glossary"
   ]
  },
  {
   "cell_type": "code",
   "execution_count": 38,
   "metadata": {},
   "outputs": [
    {
     "name": "stdout",
     "output_type": "stream",
     "text": [
      "len(ml_term) = 23\n",
      "ml_term.strip() ='sUperVised   Learning'\n",
      "ml_term.split() =['sUperVised', 'Learning']\n",
      "\n",
      "cleaned data\n",
      "' '.join(ml_term.split()).lower() = 'supervised learning'\n"
     ]
    }
   ],
   "source": [
    "ml_term = \"sUperVised   Learning  \"\n",
    "\n",
    "print(f\"{len(ml_term) = }\") # count the number of characters\n",
    "\n",
    "print(f\"{ml_term.strip() =}\") # remove whitespaces\n",
    "print(f\"{ml_term.split() =}\\n\") #split the string into a list\n",
    "\n",
    "print(\"cleaned data\")\n",
    "print(f\"{' '.join(ml_term.split()).lower() = }\")"
   ]
  },
  {
   "cell_type": "code",
   "execution_count": 39,
   "metadata": {},
   "outputs": [
    {
     "name": "stdout",
     "output_type": "stream",
     "text": [
      "ml_term[0] = 'c'\n",
      "ml_term[:10] = 'clustering'\n",
      "ml_term[10:-1] = ' algorithm'\n"
     ]
    }
   ],
   "source": [
    "ml_term = \"clustering algorithms\"\n",
    "\n",
    "print(f\"{ml_term[0] = }\")\n",
    "print(f\"{ml_term[:10] = }\") # first 10 characters\n",
    "print(f\"{ml_term[10:-1] = }\") # from 10th character to the second last character"
   ]
  },
  {
   "cell_type": "code",
   "execution_count": 40,
   "metadata": {},
   "outputs": [
    {
     "name": "stdout",
     "output_type": "stream",
     "text": [
      "supervised_learning[0] + ml_term[10:-1] = 'regression algorithm'\n",
      "'reinforcemet learning' + 'learning' = 'reinforcemet learninglearning'\n",
      "'5' + '5' = '55'\n",
      "'feature '*5 = 'feature feature feature feature feature '\n"
     ]
    }
   ],
   "source": [
    "supervised_learning = [\"regression\", \"classification\"]\n",
    "\n",
    "print(f\"{supervised_learning[0] + ml_term[10:-1] = }\") # first element and the last part of the ml_term\n",
    "print(f\"{'reinforcemet learning' + 'learning' = }\")\n",
    "print(f\"{'5' + '5' = }\") # string\n",
    "\n",
    "print(f\"{'feature '*5 = }\")"
   ]
  },
  {
   "cell_type": "code",
   "execution_count": 41,
   "metadata": {},
   "outputs": [
    {
     "name": "stdout",
     "output_type": "stream",
     "text": [
      "postive prediction for the disease with probability 0.8\n"
     ]
    }
   ],
   "source": [
    "predicted_probabilities = 0.8\n",
    "\n",
    "if predicted_probabilities > 0.5: # 0.8 negative\n",
    "    y_pred = 1\n",
    "else:\n",
    "    y_pred = 0\n",
    "\n",
    "prediction = \"postive\" if y_pred else \"negative\"\n",
    "\n",
    "print(\n",
    "    f\"{prediction} prediction for the disease with probability {predicted_probabilities}\"\n",
    ")"
   ]
  },
  {
   "cell_type": "code",
   "execution_count": 42,
   "metadata": {},
   "outputs": [
    {
     "name": "stdout",
     "output_type": "stream",
     "text": [
      "the accurancy of your model is 0.5 and the performance is bad\n"
     ]
    }
   ],
   "source": [
    "accuracy = float(input(\"give your models accuracy\"))\n",
    "\n",
    "if accuracy > .9:\n",
    "    model_performance = \"Good\"\n",
    "elif accuracy > .7:\n",
    "    model_performance = \"Moderate\"\n",
    "else:\n",
    "    model_performance = \"Bad\"\n",
    "    \n",
    "print(f\"the accurancy of your model is {accuracy} and the performance is {model_performance.lower()}\")"
   ]
  },
  {
   "cell_type": "code",
   "execution_count": 43,
   "metadata": {},
   "outputs": [
    {
     "name": "stdout",
     "output_type": "stream",
     "text": [
      "Year 0 there were 80000 birds\n",
      "Year 1 there were 40000 birds\n",
      "Year 2 there were 20000 birds\n",
      "Year 3 there were 10000 birds\n",
      "take 4 years for the bird to have 1/10 remaining)\n"
     ]
    }
   ],
   "source": [
    "birds = 80000\n",
    "year = 0\n",
    "\n",
    "while birds > 8000:\n",
    "    print(f\"Year {year} there were {birds:.0f} birds\") # :.0f to remove decimal\n",
    "    birds/=2\n",
    "    year+=1\n",
    "    \n",
    "print(f\"take {year} years for the bird to have 1/10 remaining)\")"
   ]
  },
  {
   "cell_type": "code",
   "execution_count": 44,
   "metadata": {},
   "outputs": [
    {
     "name": "stdout",
     "output_type": "stream",
     "text": [
      "K-means Clustering\n",
      "Principal Component Analysis\n",
      "Gaussian Mixture Models\n"
     ]
    }
   ],
   "source": [
    "unsupervised_abbreviation = [\n",
    "    \"K-means\",\n",
    "    \"PCA\",\n",
    "    \"GMM\",\n",
    "]\n",
    "\n",
    "unsupervised_algorithms = [\n",
    "    \"K-means Clustering\",\n",
    "    \"Principal Component Analysis\",\n",
    "    \"Gaussian Mixture Models\",\n",
    "]\n",
    "\n",
    "for abbreviation in unsupervised_algorithms:\n",
    "    print(abbreviation)"
   ]
  },
  {
   "cell_type": "code",
   "execution_count": 45,
   "metadata": {},
   "outputs": [
    {
     "name": "stdout",
     "output_type": "stream",
     "text": [
      "K-means :  K-means Clustering\n",
      "PCA :  Principal Component Analysis\n",
      "GMM :  Gaussian Mixture Models\n"
     ]
    }
   ],
   "source": [
    "for abbreviation, algorithm in zip(unsupervised_abbreviation, unsupervised_algorithms):\n",
    "    print(abbreviation, \": \",  algorithm)"
   ]
  },
  {
   "cell_type": "code",
   "execution_count": 46,
   "metadata": {},
   "outputs": [
    {
     "data": {
      "text/plain": [
       "[{'SVM': 'Support Vector Machines'},\n",
       " {'DT': 'Decision Trees'},\n",
       " {'KNN': 'k-Nearest Neighbors'}]"
      ]
     },
     "execution_count": 46,
     "metadata": {},
     "output_type": "execute_result"
    }
   ],
   "source": [
    "supervised_algorithms = [\n",
    "    \"Support Vector Machines\",\n",
    "    \"Decision Trees\",\n",
    "    \"k-Nearest Neighbors\",\n",
    "]\n",
    "\n",
    "supervised_abbreviations = [\n",
    "    \"SVM\",\n",
    "    \"DT\",\n",
    "    \"KNN\",\n",
    "]\n",
    "\n",
    "#List comprehension that creates a list of dictionaries\n",
    "[{abbreviation: algorithm} for abbreviation, algorithm in zip(supervised_abbreviations, supervised_algorithms)] "
   ]
  },
  {
   "cell_type": "code",
   "execution_count": 47,
   "metadata": {},
   "outputs": [
    {
     "name": "stdout",
     "output_type": "stream",
     "text": [
      "algorithm 0: Support Vector Machines\n",
      "algorithm 1: Decision Trees\n",
      "algorithm 2: k-Nearest Neighbors\n",
      "\n",
      "algorithm 0: Support Vector Machines\n",
      "algorithm 1: Decision Trees\n",
      "algorithm 2: k-Nearest Neighbors\n"
     ]
    }
   ],
   "source": [
    "for i in range(len(supervised_algorithms)):\n",
    "    print(f\"algorithm {i}: {supervised_algorithms[i]}\")\n",
    "    \n",
    "print()\n",
    "\n",
    "# this is pythonic and recommended with enumerate\n",
    "for i, algorithm in enumerate(supervised_algorithms):\n",
    "    print(f\"algorithm {i}: {algorithm}\")"
   ]
  }
 ],
 "metadata": {
  "kernelspec": {
   "display_name": ".venv",
   "language": "python",
   "name": "python3"
  },
  "language_info": {
   "codemirror_mode": {
    "name": "ipython",
    "version": 3
   },
   "file_extension": ".py",
   "mimetype": "text/x-python",
   "name": "python",
   "nbconvert_exporter": "python",
   "pygments_lexer": "ipython3",
   "version": "3.13.1"
  }
 },
 "nbformat": 4,
 "nbformat_minor": 2
}
