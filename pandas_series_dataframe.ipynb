{
 "cells": [
  {
   "cell_type": "markdown",
   "metadata": {},
   "source": [
    "Pandas series and dataframes"
   ]
  },
  {
   "cell_type": "code",
   "execution_count": 4,
   "metadata": {},
   "outputs": [
    {
     "name": "stdout",
     "output_type": "stream",
     "text": [
      "INKÖP    25\n",
      "OPA      30\n",
      "JS       30\n",
      "JAVA     27\n",
      "dtype: int64\n",
      "series_programs[0] -> 25\n",
      "series_programs[-1] -> 27\n",
      "series_programs.keys() -> Index(['INKÖP', 'OPA', 'JS', 'JAVA'], dtype='object')\n",
      "series_program.keys()[2] -> JS\n"
     ]
    }
   ],
   "source": [
    "import pandas as pd\n",
    "data = dict(INKÖP = 25, OPA = 30, JS = 30, JAVA = 27)\n",
    "\n",
    "series_program = pd.Series(data=data)\n",
    "print(series_program)\n",
    "\n",
    "print(f\"series_programs[0] -> {series_program.iloc[0]}\")\n",
    "print(f\"series_programs[-1] -> {series_program.iloc[-1]}\")\n",
    "\n",
    "print(f\"series_programs.keys() -> {series_program.keys()}\")\n",
    "print(f\"series_program.keys()[2] -> {series_program.keys()[2]}\")"
   ]
  }
 ],
 "metadata": {
  "kernelspec": {
   "display_name": ".venv",
   "language": "python",
   "name": "python3"
  },
  "language_info": {
   "codemirror_mode": {
    "name": "ipython",
    "version": 3
   },
   "file_extension": ".py",
   "mimetype": "text/x-python",
   "name": "python",
   "nbconvert_exporter": "python",
   "pygments_lexer": "ipython3",
   "version": "3.13.1"
  }
 },
 "nbformat": 4,
 "nbformat_minor": 2
}
