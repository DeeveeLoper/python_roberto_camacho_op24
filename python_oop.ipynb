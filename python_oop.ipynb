{
 "cells": [
  {
   "cell_type": "code",
   "execution_count": 6,
   "metadata": {},
   "outputs": [
    {
     "name": "stdout",
     "output_type": "stream",
     "text": [
      "person1: <__main__.Antagning object at 0x0000017B4EF55FD0>\n",
      "person2.program: Data science\n",
      "person2.program: UX\n",
      "person1.name: Kokchun\n",
      "person2.name: Gore bord\n"
     ]
    }
   ],
   "source": [
    "class Antagning:\n",
    "\n",
    "    def __init__(self, school, program, name, accept):\n",
    "        self.school = school\n",
    "        self.program = program\n",
    "        self.name = name\n",
    "        self.accept = accept\n",
    "        \n",
    "person1 = Antagning(\"Cool school\", \"AI\", accept=True, name=\"Kokchun\")\n",
    "person2 = Antagning(\"Cool school\", \"Data science\", accept=False, name=\"Gore bord\")\n",
    "\n",
    "print(f\"person1: {person1}\")\n",
    "\n",
    "print(f\"person2.program: {person2.program}\")\n",
    "person2.program = \"UX\"\n",
    "print(f\"person2.program: {person2.program}\")\n",
    "\n",
    "print(f\"person1.name: {person1.name}\")\n",
    "print(f\"person2.name: {person2.name}\")\n"
   ]
  },
  {
   "cell_type": "code",
   "execution_count": 7,
   "metadata": {},
   "outputs": [
    {
     "name": "stdout",
     "output_type": "stream",
     "text": [
      "hex(id(person1)) = '0x17b4ef55fd0'\n",
      "hex(id(person2)) = '0x17b4ed73110'\n",
      "False\n",
      "True\n"
     ]
    }
   ],
   "source": [
    "print(f\"{hex(id(person1)) = }\")\n",
    "print(f\"{hex(id(person2)) = }\")\n",
    "\n",
    "print(f\"{person1 == person2}\")\n",
    "print(f\"{person1 == person1}\")"
   ]
  }
 ],
 "metadata": {
  "kernelspec": {
   "display_name": ".venv",
   "language": "python",
   "name": "python3"
  },
  "language_info": {
   "codemirror_mode": {
    "name": "ipython",
    "version": 3
   },
   "file_extension": ".py",
   "mimetype": "text/x-python",
   "name": "python",
   "nbconvert_exporter": "python",
   "pygments_lexer": "ipython3",
   "version": "3.13.1"
  }
 },
 "nbformat": 4,
 "nbformat_minor": 2
}
