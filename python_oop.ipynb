{
 "cells": [
  {
   "cell_type": "code",
   "execution_count": null,
   "metadata": {},
   "outputs": [
    {
     "name": "stdout",
     "output_type": "stream",
     "text": [
      "person1: <__main__.Antagning object at 0x0000017B4EF55FD0>\n",
      "person2.program: Data science\n",
      "person2.program: UX\n",
      "person1.name: Kokchun\n",
      "person2.name: Gore bord\n"
     ]
    }
   ],
   "source": [
    "# class\n",
    "class Antagning:\n",
    "\n",
    "    def __init__(self, school, program, name, accept):\n",
    "        self.school = school\n",
    "        self.program = program\n",
    "        self.name = name\n",
    "        self.accept = accept\n",
    "        \n",
    "person1 = Antagning(\"Cool school\", \"AI\", accept=True, name=\"Kokchun\")\n",
    "person2 = Antagning(\"Cool school\", \"Data science\", accept=False, name=\"Gore bord\")\n",
    "\n",
    "print(f\"person1: {person1}\")\n",
    "\n",
    "print(f\"person2.program: {person2.program}\")\n",
    "person2.program = \"UX\"\n",
    "print(f\"person2.program: {person2.program}\")\n",
    "\n",
    "print(f\"person1.name: {person1.name}\")\n",
    "print(f\"person2.name: {person2.name}\")\n"
   ]
  },
  {
   "cell_type": "code",
   "execution_count": null,
   "metadata": {},
   "outputs": [
    {
     "name": "stdout",
     "output_type": "stream",
     "text": [
      "hex(id(person1)) = '0x17b4ef55fd0'\n",
      "hex(id(person2)) = '0x17b4ed73110'\n",
      "False\n",
      "True\n"
     ]
    }
   ],
   "source": [
    "# Memory address\n",
    "print(f\"{hex(id(person1)) = }\")\n",
    "print(f\"{hex(id(person2)) = }\")\n",
    "\n",
    "print(f\"{person1 == person2}\")\n",
    "print(f\"{person1 == person1}\")"
   ]
  },
  {
   "cell_type": "code",
   "execution_count": 18,
   "metadata": {},
   "outputs": [
    {
     "name": "stdout",
     "output_type": "stream",
     "text": [
      "Antagning(school='Cool school', program='Haskell', name='Ada Lovelace', accept=True)\n"
     ]
    },
    {
     "data": {
      "text/plain": [
       "Antagning(school='Cool school', program='Haskell', name='Ada Lovelace', accept=True)"
      ]
     },
     "execution_count": 18,
     "metadata": {},
     "output_type": "execute_result"
    }
   ],
   "source": [
    "class Antagning:\n",
    "    \n",
    "    def __init__(self, school, program, name, accept):\n",
    "        self.school = school\n",
    "        self.program = program\n",
    "        self.name = name\n",
    "        self.accept = accept\n",
    "        \n",
    "    def __repr__(self): # dunder repper method for developer\n",
    "        return f\"Antagning(school='{self.school}', program='{self.program}', name='{self.name}', accept={self.accept})\"\n",
    "    \n",
    "s = Antagning(\"Cool school\", \"Haskell\", \"Ada Lovelace\", True)\n",
    "\n",
    "print(s)\n",
    "s"
   ]
  },
  {
   "cell_type": "code",
   "execution_count": 22,
   "metadata": {},
   "outputs": [
    {
     "data": {
      "text/plain": [
       "Student(name=Gore Bord, age=55, active=True)"
      ]
     },
     "execution_count": 22,
     "metadata": {},
     "output_type": "execute_result"
    }
   ],
   "source": [
    "class Student:\n",
    "    \"\"\" Student class for representing students with name, age and active \"\"\" #docstring\n",
    "    \n",
    "    def __init__(self, name: str, age: int, active: bool) -> None:\n",
    "        self.name = name\n",
    "        self.age = age\n",
    "        self.active = active\n",
    "        \n",
    "    def __repr__(self) -> str:\n",
    "        return f\"Student(name={self.name}, age={self.age}, active={self.active})\"\n",
    "    \n",
    "s1 = Student(\"Gore Bord\", 55, True)\n",
    "\n",
    "#print(s1)\n",
    "s1"
   ]
  },
  {
   "cell_type": "code",
   "execution_count": 23,
   "metadata": {},
   "outputs": [
    {
     "name": "stdout",
     "output_type": "stream",
     "text": [
      "Hello, I'm Kokchun!\n"
     ]
    },
    {
     "data": {
      "text/plain": [
       "34"
      ]
     },
     "execution_count": 23,
     "metadata": {},
     "output_type": "execute_result"
    }
   ],
   "source": [
    "class Person:\n",
    "    \"\"\"\n",
    "    A class represent a person.\n",
    "    \n",
    "    Attributes:\n",
    "    - name (str): The name of the person\n",
    "    - age (int): The age of the person\n",
    "    - gender (str): The gender of the person ('Male', 'Female', 'Non-binary', etc.).\n",
    "    \n",
    "    Methods:\n",
    "    - greet(): Prints a greeting message.\n",
    "    - have_birthday(): Increments the age of the person by one.\n",
    "    \n",
    "    Example usage:\n",
    "    >>> person1 = Person(\"Alice, 25, \"Female\")\n",
    "    >>> person.greet()\n",
    "    Hello, I'm Alice!\n",
    "    >>> person1.have_birthday()\n",
    "    >>> person1.age\n",
    "    26\n",
    "    \"\"\"\n",
    "    \n",
    "    def __init__(self, name, age, gender):\n",
    "        \"\"\"\n",
    "        Initializes a new instance of the person class.\n",
    "        \n",
    "        Parameters:\n",
    "        - name (str): The name of the person.\n",
    "        - age (int): The age of the person.\n",
    "        - gender (str): The gender of the person.\n",
    "        \"\"\"\n",
    "        self.name = name\n",
    "        self.age = age\n",
    "        self.gender = gender\n",
    "        \n",
    "    def greet(self):\n",
    "        \"\"\"Prints a greeting message.\"\"\"\n",
    "        print(f\"Hello, I'm {self.name}!\")\n",
    "        \n",
    "    def have_birthday(self):\n",
    "        \"\"\"Incremets the age of the person by one\"\"\"\n",
    "        self.age += 1\n",
    "        \n",
    "        \n",
    "person = Person(\"Kokchun\", 33, \"M\")\n",
    "person.greet()\n",
    "person.have_birthday()\n",
    "person.age"
   ]
  },
  {
   "cell_type": "code",
   "execution_count": 30,
   "metadata": {},
   "outputs": [
    {
     "name": "stdout",
     "output_type": "stream",
     "text": [
      "Patient(Gore Bord, Migraine)\n",
      "Change patient name\n",
      "Patient(Gree Bree, Migraine)\n",
      "'Patient' object has no attribute '__diagnosis'\n",
      "{'_name': 'Gree Bree', '_Patient__diagnosis': 'Migraine'}\n",
      "Migraine\n"
     ]
    }
   ],
   "source": [
    "class Patient:\n",
    "    def __init__(self, name, diagnosis):\n",
    "        self._name = name\n",
    "        self.__diagnosis = diagnosis\n",
    "        \n",
    "    def __repr__(self):\n",
    "        return f\"Patient({self._name}, {self.__diagnosis})\"\n",
    "    \n",
    "patient1 = Patient(\"Gore Bord\", \"Migraine\")\n",
    "print(patient1)\n",
    "\n",
    "print(\"Change patient name\")\n",
    "\n",
    "patient1._name = \"Gree Bree\"\n",
    "print(patient1) \n",
    "        \n",
    "try:\n",
    "    print(patient1.__diagnosis)\n",
    "except AttributeError as err:\n",
    "    print(err)\n",
    "    \n",
    "print(patient1.__dict__)\n",
    "print(patient1._Patient__diagnosis)"
   ]
  },
  {
   "cell_type": "code",
   "execution_count": 42,
   "metadata": {},
   "outputs": [
    {
     "name": "stdout",
     "output_type": "stream",
     "text": [
      "Coins in stash: 0 riksdaler, 0 skilling\n",
      "You try deposite -5 riksdaler and 31 skilling. They have to be positive\n",
      "Coins in stash: 0 riksdaler, 0 skilling\n",
      "Coins in stash: 50 riksdaler, 42 skilling\n",
      "You can't withdraw more than you have in your stash\n",
      "Coins in stash: 50 riksdaler, 42 skilling\n",
      "Coins in stash: 25 riksdaler, 22 skilling\n"
     ]
    }
   ],
   "source": [
    "class OldCoinsStash:\n",
    "    def __init__(self, owner):\n",
    "        self.owner = owner\n",
    "        \n",
    "        self._riksdaler = 0\n",
    "        self._skilling = 0\n",
    "        \n",
    "    def deposit(self, riksdaler, skilling):\n",
    "        if riksdaler <= 0 or skilling <= 0:\n",
    "            raise ValueError(\n",
    "                f\"You try deposite {riksdaler} riksdaler and {skilling} skilling. They have to be positive\")\n",
    "            \n",
    "        self._riksdaler += riksdaler\n",
    "        self._skilling += skilling\n",
    "    \n",
    "    def withdraw(self, riksdaler, skilling):\n",
    "        if riksdaler > self._riksdaler or skilling > self._skilling:\n",
    "            raise ValueError(\n",
    "                f\"You can't withdraw more than you have in your stash\")\n",
    "    \n",
    "        self._riksdaler -= riksdaler\n",
    "        self._skilling -= skilling\n",
    "    \n",
    "    def check_balance(self):\n",
    "        return f\"Coins in stash: {self._riksdaler} riksdaler, {self._skilling} skilling\"\n",
    "        \n",
    "    def __repr__(self):\n",
    "        return f\"OldCoinsStash(owner='{self.owner}')\"\n",
    "    \n",
    "stash1 = OldCoinsStash(\"Gore Bord\")\n",
    "print(stash1.check_balance())\n",
    "\n",
    "try:\n",
    "    stash1.deposit(-5, 31)\n",
    "except ValueError as err:\n",
    "    print(err)\n",
    "    \n",
    "print (stash1.check_balance())\n",
    "stash1.deposit(50, 42)\n",
    "print(stash1.check_balance())\n",
    "\n",
    "try:\n",
    "    stash1.withdraw(500, 31)\n",
    "except ValueError as err:\n",
    "    print(err)\n",
    "    \n",
    "print(stash1.check_balance())\n",
    "stash1.withdraw(25, 20)\n",
    "print(stash1.check_balance())          "
   ]
  }
 ],
 "metadata": {
  "kernelspec": {
   "display_name": ".venv",
   "language": "python",
   "name": "python3"
  },
  "language_info": {
   "codemirror_mode": {
    "name": "ipython",
    "version": 3
   },
   "file_extension": ".py",
   "mimetype": "text/x-python",
   "name": "python",
   "nbconvert_exporter": "python",
   "pygments_lexer": "ipython3",
   "version": "3.13.1"
  }
 },
 "nbformat": 4,
 "nbformat_minor": 2
}
