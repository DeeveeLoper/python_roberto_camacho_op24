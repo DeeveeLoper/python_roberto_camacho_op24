{
 "cells": [
  {
   "cell_type": "code",
   "execution_count": null,
   "metadata": {},
   "outputs": [
    {
     "name": "stdout",
     "output_type": "stream",
     "text": [
      "person1: <__main__.Antagning object at 0x0000017B4EF55FD0>\n",
      "person2.program: Data science\n",
      "person2.program: UX\n",
      "person1.name: Kokchun\n",
      "person2.name: Gore bord\n"
     ]
    }
   ],
   "source": [
    "# class\n",
    "class Antagning:\n",
    "\n",
    "    def __init__(self, school, program, name, accept):\n",
    "        self.school = school\n",
    "        self.program = program\n",
    "        self.name = name\n",
    "        self.accept = accept\n",
    "        \n",
    "person1 = Antagning(\"Cool school\", \"AI\", accept=True, name=\"Kokchun\")\n",
    "person2 = Antagning(\"Cool school\", \"Data science\", accept=False, name=\"Gore bord\")\n",
    "\n",
    "print(f\"person1: {person1}\")\n",
    "\n",
    "print(f\"person2.program: {person2.program}\")\n",
    "person2.program = \"UX\"\n",
    "print(f\"person2.program: {person2.program}\")\n",
    "\n",
    "print(f\"person1.name: {person1.name}\")\n",
    "print(f\"person2.name: {person2.name}\")\n"
   ]
  },
  {
   "cell_type": "code",
   "execution_count": null,
   "metadata": {},
   "outputs": [
    {
     "name": "stdout",
     "output_type": "stream",
     "text": [
      "hex(id(person1)) = '0x17b4ef55fd0'\n",
      "hex(id(person2)) = '0x17b4ed73110'\n",
      "False\n",
      "True\n"
     ]
    }
   ],
   "source": [
    "# Memory address\n",
    "print(f\"{hex(id(person1)) = }\")\n",
    "print(f\"{hex(id(person2)) = }\")\n",
    "\n",
    "print(f\"{person1 == person2}\")\n",
    "print(f\"{person1 == person1}\")"
   ]
  },
  {
   "cell_type": "code",
   "execution_count": 18,
   "metadata": {},
   "outputs": [
    {
     "name": "stdout",
     "output_type": "stream",
     "text": [
      "Antagning(school='Cool school', program='Haskell', name='Ada Lovelace', accept=True)\n"
     ]
    },
    {
     "data": {
      "text/plain": [
       "Antagning(school='Cool school', program='Haskell', name='Ada Lovelace', accept=True)"
      ]
     },
     "execution_count": 18,
     "metadata": {},
     "output_type": "execute_result"
    }
   ],
   "source": [
    "class Antagning:\n",
    "    \n",
    "    def __init__(self, school, program, name, accept):\n",
    "        self.school = school\n",
    "        self.program = program\n",
    "        self.name = name\n",
    "        self.accept = accept\n",
    "        \n",
    "    def __repr__(self): # dunder repper method for developer\n",
    "        return f\"Antagning(school='{self.school}', program='{self.program}', name='{self.name}', accept={self.accept})\"\n",
    "    \n",
    "s = Antagning(\"Cool school\", \"Haskell\", \"Ada Lovelace\", True)\n",
    "\n",
    "print(s)\n",
    "s"
   ]
  },
  {
   "cell_type": "code",
   "execution_count": 22,
   "metadata": {},
   "outputs": [
    {
     "data": {
      "text/plain": [
       "Student(name=Gore Bord, age=55, active=True)"
      ]
     },
     "execution_count": 22,
     "metadata": {},
     "output_type": "execute_result"
    }
   ],
   "source": [
    "class Student:\n",
    "    \"\"\" Student class for representing students with name, age and active \"\"\" #docstring\n",
    "    \n",
    "    def __init__(self, name: str, age: int, active: bool) -> None:\n",
    "        self.name = name\n",
    "        self.age = age\n",
    "        self.active = active\n",
    "        \n",
    "    def __repr__(self) -> str:\n",
    "        return f\"Student(name={self.name}, age={self.age}, active={self.active})\"\n",
    "    \n",
    "s1 = Student(\"Gore Bord\", 55, True)\n",
    "\n",
    "#print(s1)\n",
    "s1"
   ]
  },
  {
   "cell_type": "code",
   "execution_count": 23,
   "metadata": {},
   "outputs": [
    {
     "name": "stdout",
     "output_type": "stream",
     "text": [
      "Hello, I'm Kokchun!\n"
     ]
    },
    {
     "data": {
      "text/plain": [
       "34"
      ]
     },
     "execution_count": 23,
     "metadata": {},
     "output_type": "execute_result"
    }
   ],
   "source": [
    "class Person:\n",
    "    \"\"\"\n",
    "    A class represent a person.\n",
    "    \n",
    "    Attributes:\n",
    "    - name (str): The name of the person\n",
    "    - age (int): The age of the person\n",
    "    - gender (str): The gender of the person ('Male', 'Female', 'Non-binary', etc.).\n",
    "    \n",
    "    Methods:\n",
    "    - greet(): Prints a greeting message.\n",
    "    - have_birthday(): Increments the age of the person by one.\n",
    "    \n",
    "    Example usage:\n",
    "    >>> person1 = Person(\"Alice, 25, \"Female\")\n",
    "    >>> person.greet()\n",
    "    Hello, I'm Alice!\n",
    "    >>> person1.have_birthday()\n",
    "    >>> person1.age\n",
    "    26\n",
    "    \"\"\"\n",
    "    \n",
    "    def __init__(self, name, age, gender):\n",
    "        \"\"\"\n",
    "        Initializes a new instance of the person class.\n",
    "        \n",
    "        Parameters:\n",
    "        - name (str): The name of the person.\n",
    "        - age (int): The age of the person.\n",
    "        - gender (str): The gender of the person.\n",
    "        \"\"\"\n",
    "        self.name = name\n",
    "        self.age = age\n",
    "        self.gender = gender\n",
    "        \n",
    "    def greet(self):\n",
    "        \"\"\"Prints a greeting message.\"\"\"\n",
    "        print(f\"Hello, I'm {self.name}!\")\n",
    "        \n",
    "    def have_birthday(self):\n",
    "        \"\"\"Incremets the age of the person by one\"\"\"\n",
    "        self.age += 1\n",
    "        \n",
    "        \n",
    "person = Person(\"Kokchun\", 33, \"M\")\n",
    "person.greet()\n",
    "person.have_birthday()\n",
    "person.age"
   ]
  }
 ],
 "metadata": {
  "kernelspec": {
   "display_name": ".venv",
   "language": "python",
   "name": "python3"
  },
  "language_info": {
   "codemirror_mode": {
    "name": "ipython",
    "version": 3
   },
   "file_extension": ".py",
   "mimetype": "text/x-python",
   "name": "python",
   "nbconvert_exporter": "python",
   "pygments_lexer": "ipython3",
   "version": "3.13.1"
  }
 },
 "nbformat": 4,
 "nbformat_minor": 2
}
