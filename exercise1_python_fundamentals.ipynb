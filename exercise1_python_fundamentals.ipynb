{
 "cells": [
  {
   "cell_type": "markdown",
   "metadata": {},
   "source": [
    "Cleaning string data"
   ]
  },
  {
   "cell_type": "code",
   "execution_count": 1,
   "metadata": {},
   "outputs": [
    {
     "name": "stdout",
     "output_type": "stream",
     "text": [
      "I am currently studying AI. My class is called OPA24.\n"
     ]
    }
   ],
   "source": [
    "#Cleaning data\n",
    "#I am currently studying AI. My class is called OPA24.\n",
    "raw_data = [\"   i \", \"AM \", \"    CURRENTLY \", \"TEACHING\", \"ai.   \", \"mY\", \"   CLASS\", \"IS\", \"CALLED\", \"opa21.\"]\n",
    "\n",
    "#remove leading and trailing whitespaces\n",
    "cleaned_data = [word.strip() for word in raw_data]\n",
    "#combine the words into a sentence\n",
    "text = \" \".join(cleaned_data)\n",
    "#replace the words\n",
    "text = text.replace(\"TEACHING\", \"STUDYING\")\n",
    "text = text.replace(\"opa21\", \"opa24\")\n",
    "#swap to capital letters\n",
    "text = text.swapcase()\n",
    "print(text)\n"
   ]
  },
  {
   "cell_type": "markdown",
   "metadata": {},
   "source": [
    "Hire IT employee data"
   ]
  },
  {
   "cell_type": "code",
   "execution_count": 2,
   "metadata": {},
   "outputs": [
    {
     "name": "stdout",
     "output_type": "stream",
     "text": [
      "[{'id': 0, 'name': 'Alice', 'department': 'HR', 'salary': 31000}, {'id': 1, 'name': 'Bob', 'department': 'IT', 'salary': 41000}, {'id': 2, 'name': 'Charlie', 'department': 'HR', 'salary': 28000}]\n"
     ]
    }
   ],
   "source": [
    "# Hire IT\n",
    "# Create a list of dictionaries to represent this data, where each dictionary represents each row.\n",
    "employees = [{\"id\": 0, \"name\": \"Alice\", \"department\": \"HR\", \"salary\": 31000}, \n",
    "            {\"id\": 1, \"name\": \"Bob\", \"department\": \"IT\", \"salary\": 41000}, \n",
    "            {\"id\": 2, \"name\": \"Charlie\", \"department\": \"HR\", \"salary\": 28000}]\n",
    "print(employees)\n"
   ]
  },
  {
   "cell_type": "code",
   "execution_count": 3,
   "metadata": {},
   "outputs": [
    {
     "name": "stdout",
     "output_type": "stream",
     "text": [
      "Second record: {'id': 1, 'name': 'Bob', 'department': 'IT', 'salary': 41000}\n"
     ]
    }
   ],
   "source": [
    "# Extract the second record in this dataset.\n",
    "second_record = employees[1] # second record is at index 1 in the list of employees\n",
    "print(\"Second record:\", second_record)"
   ]
  },
  {
   "cell_type": "code",
   "execution_count": 4,
   "metadata": {},
   "outputs": [
    {
     "name": "stdout",
     "output_type": "stream",
     "text": [
      "Alice works in department HR and earns 31000.\n",
      "Bob works in department IT and earns 41000.\n",
      "Charlie works in department HR and earns 28000.\n"
     ]
    }
   ],
   "source": [
    "# Extract all rows from this dataset and print it in this format\n",
    "for emp in employees: # for loop to iterate through each employee\n",
    "    print(f\"{emp[\"name\"]} works in department {emp[\"department\"]} and earns {emp[\"salary\"]}.\") "
   ]
  },
  {
   "cell_type": "code",
   "execution_count": 5,
   "metadata": {},
   "outputs": [
    {
     "name": "stdout",
     "output_type": "stream",
     "text": [
      "Average salary: 33333.333333333336\n"
     ]
    }
   ],
   "source": [
    "# Find out the average salary in Hire IT.\n",
    "average_salary = sum(emp[\"salary\"] for emp in employees) / len(employees) # sum of all salaries divided by the number of employees\n",
    "print(f\"Average salary: {average_salary}\")\n",
    "# Extract all records where the department is HR.\n"
   ]
  },
  {
   "cell_type": "code",
   "execution_count": 6,
   "metadata": {},
   "outputs": [
    {
     "name": "stdout",
     "output_type": "stream",
     "text": [
      "Average HR Salary: 29500.0\n"
     ]
    }
   ],
   "source": [
    "# Find out the average salary among the HR department in Hire IT.\n",
    "hr_employees = [emp for emp in employees if emp['department'] == 'HR'] # Create a list of all employees in HR\n",
    "hr_avg_salary = sum(emp['salary'] for emp in hr_employees) / len(hr_employees) # Sum salaries and dividing by number of HR employees\n",
    "print(f\"Average HR Salary: {hr_avg_salary}\")"
   ]
  },
  {
   "cell_type": "code",
   "execution_count": 7,
   "metadata": {},
   "outputs": [
    {
     "name": "stdout",
     "output_type": "stream",
     "text": [
      "HR records [{'id': 0, 'name': 'Alice', 'department': 'HR', 'salary': 31000}, {'id': 2, 'name': 'Charlie', 'department': 'HR', 'salary': 28000}]\n"
     ]
    }
   ],
   "source": [
    "# Extract HR records\n",
    "hr_records = [emp for emp in employees if emp['department'] == 'HR']\n",
    "print(\"HR records\", hr_records)"
   ]
  },
  {
   "cell_type": "code",
   "execution_count": 8,
   "metadata": {},
   "outputs": [
    {
     "name": "stdout",
     "output_type": "stream",
     "text": [
      "Unique department: {'HR', 'IT'}\n"
     ]
    }
   ],
   "source": [
    "# Find unique departments\n",
    "unique_departments = set(emp['department'] for emp in employees) # Get all departments and remove duplicates\n",
    "print('Unique department:', unique_departments)"
   ]
  },
  {
   "cell_type": "markdown",
   "metadata": {},
   "source": [
    "Pokemon class"
   ]
  },
  {
   "cell_type": "code",
   "execution_count": 13,
   "metadata": {},
   "outputs": [
    {
     "name": "stdout",
     "output_type": "stream",
     "text": [
      "Pikashu (Type: Electric, Level:10, HP:100)\n",
      "Charmander (Type: Fire, Level:8, HP:100)\n",
      "\n",
      "Pikachu attack Charmander for 20 damage!\n",
      "After attack:\n",
      "Pikashu (Type: Electric, Level:10, HP:100)\n",
      "Charmander (Type: Fire, Level:8, HP:80)\n"
     ]
    }
   ],
   "source": [
    "# class with attributes\n",
    "class Pokemon:\n",
    "    def __init__(self, name, type, level):\n",
    "        self.name = name\n",
    "        self.type = type\n",
    "        self.level = level\n",
    "        self.hp = 100\n",
    "    \n",
    "    # Pokemon details   \n",
    "    def __str__(self):\n",
    "        return f\"{self.name} (Type: {self.type}, Level:{self.level}, HP:{self.hp})\"\n",
    "    \n",
    "    # dunder method\n",
    "    def __repr__(self):\n",
    "        return f\"Pokemon(name='{self.name}', type='{self.type}', level={self.level})\"\n",
    "    \n",
    "    def attack(self, other_pokemon):\n",
    "        damage = self.level * 2\n",
    "        other_pokemon.hp = max(0, other_pokemon.hp - damage)\n",
    "        return damage\n",
    "    \n",
    "pikachu = Pokemon(\"Pikashu\", \"Electric\", 10)\n",
    "charmander = Pokemon(\"Charmander\", \"Fire\", 8)\n",
    "    \n",
    "print(pikachu)\n",
    "print(charmander)\n",
    "    \n",
    "#print(repr(pikachu))\n",
    "#print(repr(charmander))\n",
    "\n",
    "damage = pikachu.attack(charmander)\n",
    "print(F\"\\nPikachu attack Charmander for {damage} damage!\")\n",
    "\n",
    "print(\"After attack:\")  \n",
    "print(pikachu)\n",
    "print(charmander)\n",
    "    \n",
    "    "
   ]
  }
 ],
 "metadata": {
  "kernelspec": {
   "display_name": ".venv",
   "language": "python",
   "name": "python3"
  },
  "language_info": {
   "codemirror_mode": {
    "name": "ipython",
    "version": 3
   },
   "file_extension": ".py",
   "mimetype": "text/x-python",
   "name": "python",
   "nbconvert_exporter": "python",
   "pygments_lexer": "ipython3",
   "version": "3.13.1"
  }
 },
 "nbformat": 4,
 "nbformat_minor": 2
}
