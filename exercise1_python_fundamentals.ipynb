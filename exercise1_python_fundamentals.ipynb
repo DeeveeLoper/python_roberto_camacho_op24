{
 "cells": [
  {
   "cell_type": "code",
   "execution_count": null,
   "metadata": {},
   "outputs": [
    {
     "name": "stdout",
     "output_type": "stream",
     "text": [
      "I am currently studying AI. My class is called OPA24.\n"
     ]
    }
   ],
   "source": [
    "#Cleaning data\n",
    "#I am currently studying AI. My class is called OPA24.\n",
    "raw_data = [\"   i \", \"AM \", \"    CURRENTLY \", \"TEACHING\", \"ai.   \", \"mY\", \"   CLASS\", \"IS\", \"CALLED\", \"opa21.\"]\n",
    "\n",
    "#remove leading and trailing whitespaces\n",
    "cleaned_data = [word.strip() for word in raw_data]\n",
    "#combine the words into a sentence\n",
    "text = \" \".join(cleaned_data)\n",
    "#replace the words\n",
    "text = text.replace(\"TEACHING\", \"STUDYING\")\n",
    "text = text.replace(\"opa21\", \"opa24\")\n",
    "#swap to capital letters\n",
    "text = text.swapcase()\n",
    "print(text)\n",
    "\n"
   ]
  },
  {
   "cell_type": "code",
   "execution_count": null,
   "metadata": {},
   "outputs": [
    {
     "name": "stdout",
     "output_type": "stream",
     "text": [
      "[{'id': 0, 'name': 'Alice', 'department': 'HR', 'Salary': 31000}, {'id': 1, 'name': 'Bob', 'department': 'IT', 'Salary': 41000}, {'id': 2, 'name': 'Charlie', 'department': 'HR', 'Salary': 28000}]\n",
      "\n"
     ]
    }
   ],
   "source": [
    "# Hire IT\n",
    "# Create a list of dictionaries to represent this data, where each dictionary represents each row.\n",
    "employee = [{\"id\": 0, \"name\": \"Alice\", \"department\": \"HR\", \"Salary\": 31000}, \n",
    "            {\"id\": 1, \"name\": \"Bob\", \"department\": \"IT\", \"Salary\": 41000}, \n",
    "            {\"id\": 2, \"name\": \"Charlie\", \"department\": \"HR\", \"Salary\": 28000}]\n",
    "print(employee)\n"
   ]
  },
  {
   "cell_type": "code",
   "execution_count": null,
   "metadata": {},
   "outputs": [
    {
     "name": "stdout",
     "output_type": "stream",
     "text": [
      "Second record: {'id': 1, 'name': 'Bob', 'department': 'IT', 'Salary': 41000}\n",
      "\n"
     ]
    }
   ],
   "source": [
    "# Extract the second record in this dataset.\n",
    "second_record = employee[1] # second record is at index 1 in the list of employees\n",
    "print(\"Second record:\", second_record)"
   ]
  },
  {
   "cell_type": "code",
   "execution_count": null,
   "metadata": {},
   "outputs": [
    {
     "name": "stdout",
     "output_type": "stream",
     "text": [
      "Alice works in department HR and earns 31000.\n",
      "Bob works in department IT and earns 41000.\n",
      "Charlie works in department HR and earns 28000.\n"
     ]
    }
   ],
   "source": [
    "# Extract all rows from this dataset and print it in this format\n",
    "for emp in employee: # for loop to iterate through each employee\n",
    "    print(f\"{emp[\"name\"]} works in department {emp[\"department\"]} and earns {emp[\"Salary\"]}.\") "
   ]
  },
  {
   "cell_type": "code",
   "execution_count": 9,
   "metadata": {},
   "outputs": [
    {
     "name": "stdout",
     "output_type": "stream",
     "text": [
      "Average salary: 33333.333333333336\n"
     ]
    }
   ],
   "source": [
    "# Find out the average salary in Hire IT.\n",
    "average_salary = sum(emp[\"Salary\"] for emp in employee) / len(employee) # sum of all salaries divided by the number of employees\n",
    "print(f\"Average salary: {average_salary}\")\n",
    "# Extract all records where the department is HR.\n"
   ]
  }
 ],
 "metadata": {
  "kernelspec": {
   "display_name": ".venv",
   "language": "python",
   "name": "python3"
  },
  "language_info": {
   "codemirror_mode": {
    "name": "ipython",
    "version": 3
   },
   "file_extension": ".py",
   "mimetype": "text/x-python",
   "name": "python",
   "nbconvert_exporter": "python",
   "pygments_lexer": "ipython3",
   "version": "3.13.1"
  }
 },
 "nbformat": 4,
 "nbformat_minor": 2
}
