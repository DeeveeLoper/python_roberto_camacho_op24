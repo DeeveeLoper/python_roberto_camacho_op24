{
 "cells": [
  {
   "cell_type": "markdown",
   "metadata": {},
   "source": [
    "Understanding coding in general even you are not creating classes"
   ]
  },
  {
   "cell_type": "code",
   "execution_count": 1,
   "metadata": {},
   "outputs": [
    {
     "data": {
      "text/plain": [
       "datetime.datetime(2025, 2, 27, 15, 0, 11, 948298)"
      ]
     },
     "execution_count": 1,
     "metadata": {},
     "output_type": "execute_result"
    }
   ],
   "source": [
    "#import datetime in two ways\n",
    "from datetime import datetime\n",
    "datetime.now()\n",
    "\n",
    "import datetime\n",
    "datetime.datetime.now()"
   ]
  },
  {
   "cell_type": "code",
   "execution_count": 3,
   "metadata": {},
   "outputs": [
    {
     "ename": "NameError",
     "evalue": "name 'x' is not defined",
     "output_type": "error",
     "traceback": [
      "\u001b[1;31m---------------------------------------------------------------------------\u001b[0m",
      "\u001b[1;31mNameError\u001b[0m                                 Traceback (most recent call last)",
      "Cell \u001b[1;32mIn[3], line 8\u001b[0m\n\u001b[0;32m      6\u001b[0m \u001b[38;5;28;01mimport\u001b[39;00m\u001b[38;5;250m \u001b[39m\u001b[38;5;21;01mmatplotlib\u001b[39;00m\u001b[38;5;21;01m.\u001b[39;00m\u001b[38;5;21;01mpyplot\u001b[39;00m\u001b[38;5;250m \u001b[39m\u001b[38;5;28;01mas\u001b[39;00m\u001b[38;5;250m \u001b[39m\u001b[38;5;21;01mplt\u001b[39;00m\n\u001b[0;32m      7\u001b[0m ax, fig \u001b[38;5;241m=\u001b[39m plt\u001b[38;5;241m.\u001b[39maxes(), plt\u001b[38;5;241m.\u001b[39mfigure()\n\u001b[1;32m----> 8\u001b[0m ax\u001b[38;5;241m.\u001b[39mplot(\u001b[43mx\u001b[49m, y1)\n\u001b[0;32m      9\u001b[0m ax\u001b[38;5;241m.\u001b[39mplot(x, y2)\n",
      "\u001b[1;31mNameError\u001b[0m: name 'x' is not defined"
     ]
    },
    {
     "data": {
      "image/png": "[encoded data removed]",
      "text/plain": [
       "<Figure size 640x480 with 1 Axes>"
      ]
     },
     "metadata": {},
     "output_type": "display_data"
    },
    {
     "data": {
      "text/plain": [
       "<Figure size 640x480 with 0 Axes>"
      ]
     },
     "metadata": {},
     "output_type": "display_data"
    }
   ],
   "source": [
    "# function approach\n",
    "import matplotlib.pyplot as plt\n",
    "#plt.plot(x, y)\n",
    "\n",
    "# OOP (Object-Oriented Programming)\n",
    "import matplotlib.pyplot as plt\n",
    "ax, fig = plt.axes(), plt.figure()\n",
    "ax.plot(x, y1)\n",
    "ax.plot(x, y2)"
   ]
  },
  {
   "cell_type": "markdown",
   "metadata": {},
   "source": [
    "OOP terms\n",
    "\n",
    "- Class: A blueprint that defines attributes (data) and methods (functions) for creating objects.\n",
    "- Instantiating: The process of creating an object (instance) from a class.\n",
    "- __init__(): A special method (constructor) used to initialize attributes when creating objects from a class.\n",
    "- Attributes: Variables that belong to a class or object, representing its state or properties.\n",
    "- Method: A function that belongs to a class or object\n",
    "\n",
    "The image shows a diagram illustrating object-oriented programming concepts in a practical e-commerce context."
   ]
  },
  {
   "cell_type": "markdown",
   "metadata": {},
   "source": [
    "![Image description](../data/oop_usecase.png)"
   ]
  },
  {
   "cell_type": "code",
   "execution_count": 4,
   "metadata": {},
   "outputs": [],
   "source": [
    "# Class\n",
    "class Person:\n",
    "    \n",
    "    def __init__(self, name, age):\n",
    "        self.name = name\n",
    "        self.age = age\n",
    "    \n",
    "    def greet(self):\n",
    "        print(f\"Hello, I'm {self.name}\")"
   ]
  },
  {
   "cell_type": "code",
   "execution_count": 6,
   "metadata": {},
   "outputs": [],
   "source": [
    "person1 = Person(\"Debb\", 39)"
   ]
  },
  {
   "cell_type": "code",
   "execution_count": 7,
   "metadata": {},
   "outputs": [
    {
     "name": "stdout",
     "output_type": "stream",
     "text": [
      "Hello, I'm Debb\n"
     ]
    }
   ],
   "source": [
    "person1.greet()"
   ]
  },
  {
   "cell_type": "markdown",
   "metadata": {},
   "source": [
    "Access and Reassign Attributes of Objects:\n",
    "\n",
    "- Encapsulation (private attributes) can restrict direct modification of attributes after object creation by using naming conventions (like _private or __private).\n",
    "- Properties provide a controlled way to access and modify attributes through getter and setter methods, allowing implementation of validation rules when values are assigned."
   ]
  },
  {
   "cell_type": "code",
   "execution_count": 8,
   "metadata": {},
   "outputs": [
    {
     "data": {
      "text/plain": [
       "'Debb'"
      ]
     },
     "execution_count": 8,
     "metadata": {},
     "output_type": "execute_result"
    }
   ],
   "source": [
    "person1.name"
   ]
  },
  {
   "cell_type": "code",
   "execution_count": 9,
   "metadata": {},
   "outputs": [
    {
     "data": {
      "text/plain": [
       "'Chris'"
      ]
     },
     "execution_count": 9,
     "metadata": {},
     "output_type": "execute_result"
    }
   ],
   "source": [
    "person1.name = \"Chris\"\n",
    "person1.name"
   ]
  },
  {
   "cell_type": "markdown",
   "metadata": {},
   "source": [
    "Documentation"
   ]
  },
  {
   "cell_type": "code",
   "execution_count": 10,
   "metadata": {},
   "outputs": [],
   "source": [
    "class Person:\n",
    "    # Create attributes\n",
    "    def __init__(self, name, age):\n",
    "        self.name = name\n",
    "        self.age = age\n",
    "        \n",
    "    # Create method\n",
    "    def greet(self):\n",
    "        print(f\"Hello, I'm {self.name}\")\n",
    "        \n",
    "    # Create __repr__ method. Usually used by developers\n",
    "    def __repr__(self):\n",
    "        return f\"Person(name={self.name}, age={self.age})\"\n",
    "    \n",
    "    # Create __str__ method. Usually used by users\n",
    "    def __str__(self):\n",
    "        return f\"This is an object instanstiated from a class called Person. It is used to store information of all persons working in this school\"\n",
    "        \n",
    "        "
   ]
  },
  {
   "cell_type": "code",
   "execution_count": 11,
   "metadata": {},
   "outputs": [],
   "source": [
    "person1 = Person(\"Debb\", 39)"
   ]
  },
  {
   "cell_type": "code",
   "execution_count": 12,
   "metadata": {},
   "outputs": [
    {
     "data": {
      "text/plain": [
       "Person(name=Debb, age=39)"
      ]
     },
     "execution_count": 12,
     "metadata": {},
     "output_type": "execute_result"
    }
   ],
   "source": [
    "# if a developer want to know about this object\n",
    "person1"
   ]
  },
  {
   "cell_type": "code",
   "execution_count": 13,
   "metadata": {},
   "outputs": [
    {
     "name": "stdout",
     "output_type": "stream",
     "text": [
      "This is an object instanstiated from a class called Person. It is used to store information of all persons working in this school\n"
     ]
    }
   ],
   "source": [
    "# if a user of the script want to know about this object\n",
    "print(person1)"
   ]
  },
  {
   "cell_type": "code",
   "execution_count": 14,
   "metadata": {},
   "outputs": [
    {
     "data": {
      "text/plain": [
       "'<__main__.test object at 0x00000232CD591940>'"
      ]
     },
     "execution_count": 14,
     "metadata": {},
     "output_type": "execute_result"
    }
   ],
   "source": [
    "# Python uses default __repr__ showing memory address if not defined\n",
    "class test:\n",
    "    pass\n",
    "\n",
    "str(test())"
   ]
  },
  {
   "cell_type": "code",
   "execution_count": 16,
   "metadata": {},
   "outputs": [],
   "source": [
    "class Person:\n",
    "    \"\"\"\n",
    "    This is a person class which has many methods defined here:\n",
    "    1. method 1\n",
    "    2. method 2\n",
    "    etc \n",
    "    \"\"\"\n",
    "    \n",
    "    def __init__(self, name: str, age: int):\n",
    "        self.name = name\n",
    "        self.age = age\n",
    "    \n",
    "    def greet(self):\n",
    "        print(f\"Hello, I'm {self.name}\")\n",
    "        \n",
    "    def display_info(self):\n",
    "        print(f\"name:{self.name}, age{self.age}\")"
   ]
  },
  {
   "cell_type": "code",
   "execution_count": 17,
   "metadata": {},
   "outputs": [],
   "source": [
    "person1 = Person(\"Alice\", 30)"
   ]
  },
  {
   "cell_type": "code",
   "execution_count": 18,
   "metadata": {},
   "outputs": [
    {
     "data": {
      "text/plain": [
       "__main__.Person"
      ]
     },
     "execution_count": 18,
     "metadata": {},
     "output_type": "execute_result"
    }
   ],
   "source": [
    "#hover over to see type hinting\n",
    "Person"
   ]
  },
  {
   "cell_type": "code",
   "execution_count": 19,
   "metadata": {},
   "outputs": [
    {
     "name": "stdout",
     "output_type": "stream",
     "text": [
      "name:Alice, age30\n"
     ]
    }
   ],
   "source": [
    "#hover over to see type hinting\n",
    "# Person()\n",
    "\n",
    "person1.display_info()"
   ]
  }
 ],
 "metadata": {
  "kernelspec": {
   "display_name": ".venv",
   "language": "python",
   "name": "python3"
  },
  "language_info": {
   "codemirror_mode": {
    "name": "ipython",
    "version": 3
   },
   "file_extension": ".py",
   "mimetype": "text/x-python",
   "name": "python",
   "nbconvert_exporter": "python",
   "pygments_lexer": "ipython3",
   "version": "3.13.1"
  }
 },
 "nbformat": 4,
 "nbformat_minor": 2
}
